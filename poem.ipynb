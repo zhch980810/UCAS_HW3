{
 "cells": [
  {
   "cell_type": "code",
   "execution_count": 2,
   "id": "occupied-calvin",
   "metadata": {},
   "outputs": [],
   "source": [
    "import torch\n",
    "import os\n",
    "from torch import nn \n",
    "import numpy as np \n",
    "from torch.utils.data import Dataset,DataLoader\n",
    "import torch.optim as optim\n",
    "from torch.utils.data import random_split"
   ]
  },
  {
   "cell_type": "code",
   "execution_count": 10,
   "id": "apparent-johns",
   "metadata": {
    "collapsed": true
   },
   "outputs": [
    {
     "name": "stdout",
     "output_type": "stream",
     "text": [
      "[['<' '<' '<' '<' '<' '<' '<' '<' '<' '<' '<' '<' '<' '<' '<' '<' '<' '<'\n",
      "  '<' '<' '<' '<' '<' '<' '<' '<' '<' '<' '<' '<' '<' '<' '<' '<' '<' '<'\n",
      "  '<' '<' '<' '<' '<' '<' '<' '<' '<' '<' '<' '<' '<' '<' '<' '<' '川' '上'\n",
      "  '风' '雨' '来' '，' '须' '臾' '满' '城' '阙' '。' '岧' '峣' '青' '莲' '界' '，' '萧' '条'\n",
      "  '孤' '兴' '发' '。' '前' '山' '遽' '已' '净' '，' '阴' '霭' '夜' '来' '歇' '。' '乔' '木'\n",
      "  '生' '夏' '凉' '，' '流' '云' '吐' '华' '月' '。' '严' '城' '自' '有' '限' '，' '一' '水'\n",
      "  '非' '难' '越' '。' '相' '望' '曙' '河' '远' '，' '高' '斋' '坐' '超' '忽' '。' '<']]\n"
     ]
    }
   ],
   "source": [
    "#查看数据集\n",
    "\n",
    "poem_path='tang.npz'\n",
    "embedding_dim=100\n",
    "hidden_dim=1024\n",
    "lr=0.001\n",
    "LSTM_layers=3\n",
    "\n",
    "\n",
    "datas = np.load(poem_path,allow_pickle=True)\n",
    "data = datas['data']\n",
    "ix2word = datas['ix2word'].item()\n",
    "word2ix = datas['word2ix'].item()\n",
    "\n",
    "#显示指定诗的前多少字\n",
    "def view_poem(length,x):\n",
    "    y=np.zeros((1,length),dtype=np.str)\n",
    "    for i in range(length):\n",
    "        y[0,i] = ix2word[x[i]]\n",
    "    print(y)\n",
    "\n",
    "view_poem(125,data[2])"
   ]
  },
  {
   "cell_type": "code",
   "execution_count": 3,
   "id": "creative-resort",
   "metadata": {},
   "outputs": [],
   "source": [
    "#构造数据集\n",
    "class Poem(Dataset):\n",
    "    def __init__(self,poem_path,seq_len):\n",
    "        self.seq_len = seq_len\n",
    "        self.poem_path = poem_path\n",
    "        self.poem_data, self.ix2word, self.word2ix = self.get_raw_data()\n",
    "        self.no_space_data = self.filter_space()\n",
    "\n",
    "    def __getitem__(self, idx:int):\n",
    "        txt = self.no_space_data[idx : idx+self.seq_len]\n",
    "        label = self.no_space_data[idx + 1 : idx+self.seq_len + 1]\n",
    "        txt = torch.from_numpy(np.array(txt)).long()\n",
    "        label = torch.from_numpy(np.array(label)).long()\n",
    "        return txt,label\n",
    "\n",
    "    def __len__(self):\n",
    "        return len(self.no_space_data) -self.seq_len+1\n",
    "\n",
    "    def filter_space(self): # 将空格的数据给过滤掉，并将原始数据平整到一维\n",
    "        t_data = torch.from_numpy(self.poem_data).view(-1)\n",
    "        flat_data = t_data.numpy()\n",
    "        no_space_data = []\n",
    "        for i in flat_data:\n",
    "            if (i != 8292 ):\n",
    "                no_space_data.append(i)\n",
    "        return no_space_data\n",
    "    \n",
    "    def get_raw_data(self):\n",
    "        datas = np.load(self.poem_path,allow_pickle=True)\n",
    "        data = datas['data']\n",
    "        ix2word = datas['ix2word'].item()\n",
    "        word2ix = datas['word2ix'].item()\n",
    "        return data, ix2word, word2ix"
   ]
  },
  {
   "cell_type": "code",
   "execution_count": 4,
   "id": "intelligent-suspect",
   "metadata": {},
   "outputs": [
    {
     "name": "stdout",
     "output_type": "stream",
     "text": [
      "[['怜' '马' '似' '骢' '。' '乍' '迷' '金' '谷' '路' '，' '稍' '变' '上' '阳' '宫' '。' '还'\n",
      "  '比' '相' '思' '意' '，' '纷' '纷' '正' '满' '空' '。' '<' '<' '逍' '遥' '东' '城' '隅'\n",
      "  '，' '双' '树' '寒' '葱' '蒨' '。' '广' '庭' '流' '华' '月']]\n",
      "[['马' '似' '骢' '。' '乍' '迷' '金' '谷' '路' '，' '稍' '变' '上' '阳' '宫' '。' '还' '比'\n",
      "  '相' '思' '意' '，' '纷' '纷' '正' '满' '空' '。' '<' '<' '逍' '遥' '东' '城' '隅' '，'\n",
      "  '双' '树' '寒' '葱' '蒨' '。' '广' '庭' '流' '华' '月' '，']]\n"
     ]
    }
   ],
   "source": [
    "#制作好的数据集\n",
    "#view_poemtensor版本\n",
    "def view_poem(length,x):\n",
    "    y=np.zeros((1,length),dtype=np.str)\n",
    "    for i in range(length):\n",
    "        y[0,i] = ix2word[x[i].item()]\n",
    "    print(y)\n",
    "    \n",
    "    \n",
    "poem_ds = Poem(poem_path, 48)\n",
    "\n",
    "view_poem(len(poem_ds[20][0]),poem_ds[20][0])\n",
    "view_poem(len(poem_ds[20][1]),poem_ds[20][1])\n",
    "\n",
    "#制成一个loader\n",
    "\n",
    "train_ds,val_ds=random_split(poem_ds,[60000,len(poem_ds)-60000])\n",
    "train_loader=DataLoader(train_ds,batch_size=50,shuffle=True,drop_last=True)\n",
    "val_loader=DataLoader(val_ds,batch_size=50,shuffle=True,drop_last=True)"
   ]
  },
  {
   "cell_type": "code",
   "execution_count": 3,
   "id": "rural-surgery",
   "metadata": {},
   "outputs": [],
   "source": [
    "class PoemWrite(nn.Module):\n",
    "    \n",
    "    def __init__(self, vocab_size, embedding_dim, hidden_dim,num_layers):\n",
    "        super(MyPoetryModel_tanh, self).__init__()\n",
    "        self.hidden_dim=hidden_dim\n",
    "        self.num_layers=num_layers\n",
    "        self.embeddings = nn.Embedding(vocab_size, embedding_dim)\n",
    "        self.lstm = nn.LSTM(embedding_dim, hidden_dim, num_layers,\n",
    "                            batch_first=True,dropout=0, bidirectional=False)\n",
    "        self.fc1 = nn.Linear(hidden_dim,2048)\n",
    "        self.fc2 = nn.Linear(2048,4096)\n",
    "        self.fc3 = nn.Linear(4096,vocab_size)\n",
    "\n",
    "\n",
    "    def forward(self, input, hidden=None):\n",
    "        embeds = self.embeddings(input)\n",
    "        batch_size, seq_len = input.size()\n",
    "        if hidden is None:\n",
    "            h_0 = input.data.new(self.num_layers, batch_size, self.hidden_dim).fill_(0).float()\n",
    "            c_0 = input.data.new(self.num_layers, batch_size, self.hidden_dim).fill_(0).float()\n",
    "        else:\n",
    "            h_0, c_0 = hidden\n",
    "        output, hidden = self.lstm(embeds, (h_0, c_0))\n",
    "        output = torch.tanh(self.fc1(output))\n",
    "        output = torch.tanh(self.fc2(output))\n",
    "        output = self.fc3(output)\n",
    "        pred = torch.topk(output, 1, largest=True, sorted=True)[1]\n",
    "        output = output.reshape(batch_size*seq_len,-1)\n",
    "        return pred.view(-1),output,hidden\n",
    "    \n",
    "#input[batch_size,seq_len]    \n",
    "    \n",
    "#output[batch_size,seq_len,vocab_size]\n",
    "#hidden--h_0,c_0  [layers,batch_size,hidden]"
   ]
  },
  {
   "cell_type": "code",
   "execution_count": 7,
   "id": "falling-library",
   "metadata": {},
   "outputs": [],
   "source": [
    "def accuracy(pred, label):\n",
    "    length=len(pred)\n",
    "    cnt = pred.eq(label).sum().item()\n",
    "    return cnt/length"
   ]
  },
  {
   "cell_type": "code",
   "execution_count": 4,
   "id": "thermal-cursor",
   "metadata": {},
   "outputs": [],
   "source": [
    "#只有一个input，每次手动把hidden和output放进下一个cell\n",
    "def test(words,model,device):\n",
    "    poem=list(words)\n",
    "    words=list(words)\n",
    "    words.insert(0,'<START>')\n",
    "\n",
    "    length=len(words)\n",
    "    if(length>=49):\n",
    "        print('已经很长不用续写了(微笑)')\n",
    "        return -1\n",
    "      \n",
    "    words=torch.tensor([word2ix[i] for i in words]).to(device)\n",
    "    words=words.view(1,length)\n",
    "  \n",
    "  #已有的部分只要最后一个字的pred，和他的hidden\n",
    "  #有两种不同的输入，只有输入和输入加hidden\n",
    "    pred,_,hidden=model(words)\n",
    "\n",
    "    for i in range(49-length):\n",
    "        if ix2word[pred[-1].item()]!='<EOP>':\n",
    "            poem.append(ix2word[pred[-1].item()])\n",
    "            pred = pred[-1].view(1,1)\n",
    "            pred,_,hidden=model(pred,hidden)\n",
    "\n",
    "        else:\n",
    "            return poem  #遇到截止符就停止\n",
    "    \n",
    "    return poem\n",
    "    "
   ]
  },
  {
   "cell_type": "code",
   "execution_count": 8,
   "id": "effective-orlando",
   "metadata": {},
   "outputs": [],
   "source": [
    "#全局变量\n",
    "answer1=[]\n",
    "answer2=[]\n",
    "train_loss=[]\n",
    "train_acc=[]\n",
    "val_loss=[]\n",
    "val_acc=[]\n",
    "\n",
    "\n",
    "def train( epochs, train_loader,val_loader, device, model):\n",
    "    quiz_1='接天莲叶无穷碧'\n",
    "    quiz_2='会当凌绝顶'\n",
    "\n",
    "    train_num=len(train_loader)\n",
    "    val_num=len(val_loader)\n",
    "\n",
    "    model = model.to(device)\n",
    "\n",
    "    optimizer = torch.optim.Adam(model.parameters(), 0.001)\n",
    "  \n",
    "    for epoch in range(epochs):\n",
    "        epoch_loss=0.0  #用于更新train__loss和train_acc\n",
    "        epoch_acc=0.0\n",
    "\n",
    "        model.train()\n",
    "        \n",
    "        for i, data in enumerate(train_loader):\n",
    "            inputs, labels = data[0].to(device), data[1].to(device)\n",
    "            optimizer.zero_grad()\n",
    "            pred,outputs,hidden = model(inputs)\n",
    "\n",
    "            labels=labels.view(-1)\n",
    "            loss = torch.nn.functional.cross_entropy(outputs,labels)\n",
    "            loss.backward()\n",
    "            optimizer.step()\n",
    "            epoch_loss += loss.item()\n",
    "            epoch_acc += accuracy(pred, labels)\n",
    "\n",
    "            if((i+1)%200==0):\n",
    "                print(epoch,'th epoch ',i,'th train_ite ','train_loss:',loss.item(),'train_acc:',accuracy(pred,labels))\n",
    "\n",
    "    train_loss.append(epoch_loss/train_num)\n",
    "    train_acc.append(epoch_acc/train_num)\n",
    "\n",
    "    \n",
    "    #计算测试集\n",
    "    epoch_loss=0.0  #用于更新val__loss和val_acc\n",
    "    epoch_acc=0.0\n",
    "\n",
    "    with torch.no_grad():\n",
    "        model.eval()\n",
    "        for i, data in enumerate(val_loader):\n",
    "            inputs, labels = data[0].to(device), data[1].to(device)\n",
    "            pred,outputs,hidden = model(inputs)\n",
    "\n",
    "            labels=labels.view(-1)\n",
    "            loss = torch.nn.functional.cross_entropy(outputs,labels)\n",
    "            epoch_loss += loss.item()\n",
    "            epoch_acc += accuracy(pred, labels)\n",
    "      \n",
    "            if((i+1)%100==0):\n",
    "                print(epoch,'th epoch ',i,'th val_ite ','val_loss:',loss.item(),'val_acc:',accuracy(pred,labels))\n",
    "\n",
    "    val_loss.append(epoch_loss/val_num)\n",
    "    val_acc.append(epoch_acc/val_num)\n",
    "      \n",
    "    #quiz\n",
    "    a1=''.join(test(quiz_1,model,device))\n",
    "    a2=''.join(test(quiz_2,model,device))\n",
    "    print(a1)\n",
    "    print(a2)\n",
    "    answer1.append(a1)\n",
    "    answer2.append(a2)\n"
   ]
  },
  {
   "cell_type": "code",
   "execution_count": 8,
   "id": "recovered-papua",
   "metadata": {},
   "outputs": [
    {
     "data": {
      "text/plain": [
       "<All keys matched successfully>"
      ]
     },
     "execution_count": 8,
     "metadata": {},
     "output_type": "execute_result"
    }
   ],
   "source": [
    "model=PoemWrite( len(word2ix), embedding_dim, hidden_dim,LSTM_layers)\n",
    "model.load_state_dict(torch.load('7-epoch.pth',map_location=torch.device('cpu')))"
   ]
  },
  {
   "cell_type": "code",
   "execution_count": 17,
   "id": "electoral-court",
   "metadata": {},
   "outputs": [
    {
     "data": {
      "text/plain": [
       "<matplotlib.legend.Legend at 0x23e101ca910>"
      ]
     },
     "execution_count": 17,
     "metadata": {},
     "output_type": "execute_result"
    },
    {
     "data": {
      "image/png": "[encoded data removed]",
      "text/plain": [
       "<Figure size 432x288 with 1 Axes>"
      ]
     },
     "metadata": {
      "needs_background": "light"
     },
     "output_type": "display_data"
    }
   ],
   "source": [
    "import matplotlib.pyplot as plt\n",
    "\n",
    "train_acc=[0.19236250000000096,\n",
    "0.23422465277777854,\n",
    "0.2567996527777773,\n",
    "0.27707638888888886,\n",
    "0.30117986111111106,\n",
    "0.33171388888888886,\n",
    "0.3668829861111119,\n",
    "0.4031659722222227]\n",
    "\n",
    "\n",
    "val_acc=[0.2193412698412699,\n",
    "0.24521428571428577,\n",
    "0.25726587301587306,\n",
    "0.26369444444444445,\n",
    "0.26551587301587304,\n",
    "0.263920634920635,\n",
    "0.262063492063492,\n",
    "0.25861904761904764]\n",
    "\n",
    "train_loss=[5.624020807345708,\n",
    "4.941127345164617,\n",
    "4.624158886671066,\n",
    "4.375943488279979,\n",
    "4.119530411163966,\n",
    "3.838339075247447,\n",
    "3.5473141759634017,\n",
    "3.268163660566012]\n",
    "\n",
    "val_loss=[5.157280649457659,\n",
    "4.804408740997315,\n",
    "4.656552927834647,\n",
    "4.605309286571685,\n",
    "4.633861019497826,\n",
    "4.75527393704369,\n",
    "4.936451189858573,\n",
    "5.166200151897612]\n",
    "\n",
    "plt.title('train/val loss')\n",
    "#plt.plot(train_acc)\n",
    "plt.plot(train_loss)\n",
    "#plt.plot(val_acc)\n",
    "plt.plot(val_loss)\n",
    "plt.legend(['train_loss','val_loss'])"
   ]
  },
  {
   "cell_type": "code",
   "execution_count": 15,
   "id": "responsible-governor",
   "metadata": {},
   "outputs": [
    {
     "name": "stdout",
     "output_type": "stream",
     "text": [
      "细雨斜风作晓寒，轻罗带缕恨无违。不知惆怅花前散，一片残红隔水云。\n"
     ]
    }
   ],
   "source": [
    "x=test('细雨斜风作晓寒',model,'cpu')\n",
    "y=''.join(x)\n",
    "print(y)"
   ]
  }
 ],
 "metadata": {
  "kernelspec": {
   "display_name": "python385",
   "language": "python",
   "name": "python385"
  },
  "language_info": {
   "codemirror_mode": {
    "name": "ipython",
    "version": 3
   },
   "file_extension": ".py",
   "mimetype": "text/x-python",
   "name": "python",
   "nbconvert_exporter": "python",
   "pygments_lexer": "ipython3",
   "version": "3.8.5"
  }
 },
 "nbformat": 4,
 "nbformat_minor": 5
}
